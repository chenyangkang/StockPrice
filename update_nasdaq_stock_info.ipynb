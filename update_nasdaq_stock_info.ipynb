{
 "cells": [
  {
   "cell_type": "code",
   "execution_count": 101,
   "metadata": {},
   "outputs": [],
   "source": [
    "import pandas as pd\n",
    "import numpy as np\n",
    "import matplotlib.pyplot as plt\n"
   ]
  },
  {
   "cell_type": "code",
   "execution_count": 3,
   "metadata": {},
   "outputs": [
    {
     "name": "stderr",
     "output_type": "stream",
     "text": [
      "/var/folders/j_/w98j87ps77j1k44x5fhz3dz80000gn/T/ipykernel_13391/1111219868.py:1: ParserWarning: Falling back to the 'python' engine because the 'c' engine does not support skipfooter; you can avoid this warning by specifying engine='python'.\n",
      "  stock_df = pd.read_csv('http://www.nasdaqtrader.com/dynamic/symdir/nasdaqlisted.txt', sep='|', skipfooter=1)\n"
     ]
    }
   ],
   "source": [
    "stock_df = pd.read_csv('http://www.nasdaqtrader.com/dynamic/symdir/nasdaqlisted.txt', sep='|', skipfooter=1)\n",
    "stock_df.to_csv('data/nasdaq_stock_info/nasdaqtraded.txt', sep='|')\n"
   ]
  },
  {
   "cell_type": "code",
   "execution_count": 5,
   "metadata": {},
   "outputs": [
    {
     "data": {
      "text/html": [
       "<div>\n",
       "<style scoped>\n",
       "    .dataframe tbody tr th:only-of-type {\n",
       "        vertical-align: middle;\n",
       "    }\n",
       "\n",
       "    .dataframe tbody tr th {\n",
       "        vertical-align: top;\n",
       "    }\n",
       "\n",
       "    .dataframe thead th {\n",
       "        text-align: right;\n",
       "    }\n",
       "</style>\n",
       "<table border=\"1\" class=\"dataframe\">\n",
       "  <thead>\n",
       "    <tr style=\"text-align: right;\">\n",
       "      <th></th>\n",
       "      <th>Unnamed: 0</th>\n",
       "      <th>Symbol</th>\n",
       "      <th>Security Name</th>\n",
       "      <th>Market Category</th>\n",
       "      <th>Test Issue</th>\n",
       "      <th>Financial Status</th>\n",
       "      <th>Round Lot Size</th>\n",
       "      <th>ETF</th>\n",
       "      <th>NextShares</th>\n",
       "    </tr>\n",
       "  </thead>\n",
       "  <tbody>\n",
       "    <tr>\n",
       "      <th>0</th>\n",
       "      <td>0</td>\n",
       "      <td>AACG</td>\n",
       "      <td>ATA Creativity Global - American Depositary Sh...</td>\n",
       "      <td>G</td>\n",
       "      <td>N</td>\n",
       "      <td>D</td>\n",
       "      <td>100</td>\n",
       "      <td>N</td>\n",
       "      <td>N</td>\n",
       "    </tr>\n",
       "    <tr>\n",
       "      <th>1</th>\n",
       "      <td>1</td>\n",
       "      <td>AACI</td>\n",
       "      <td>Armada Acquisition Corp. I - Common Stock</td>\n",
       "      <td>G</td>\n",
       "      <td>N</td>\n",
       "      <td>N</td>\n",
       "      <td>100</td>\n",
       "      <td>N</td>\n",
       "      <td>N</td>\n",
       "    </tr>\n",
       "    <tr>\n",
       "      <th>2</th>\n",
       "      <td>2</td>\n",
       "      <td>AACIU</td>\n",
       "      <td>Armada Acquisition Corp. I - Unit</td>\n",
       "      <td>G</td>\n",
       "      <td>N</td>\n",
       "      <td>N</td>\n",
       "      <td>100</td>\n",
       "      <td>N</td>\n",
       "      <td>N</td>\n",
       "    </tr>\n",
       "    <tr>\n",
       "      <th>3</th>\n",
       "      <td>3</td>\n",
       "      <td>AACIW</td>\n",
       "      <td>Armada Acquisition Corp. I - Warrant</td>\n",
       "      <td>G</td>\n",
       "      <td>N</td>\n",
       "      <td>N</td>\n",
       "      <td>100</td>\n",
       "      <td>N</td>\n",
       "      <td>N</td>\n",
       "    </tr>\n",
       "    <tr>\n",
       "      <th>4</th>\n",
       "      <td>4</td>\n",
       "      <td>AADI</td>\n",
       "      <td>Aadi Bioscience, Inc. - Common Stock</td>\n",
       "      <td>S</td>\n",
       "      <td>N</td>\n",
       "      <td>N</td>\n",
       "      <td>100</td>\n",
       "      <td>N</td>\n",
       "      <td>N</td>\n",
       "    </tr>\n",
       "    <tr>\n",
       "      <th>...</th>\n",
       "      <td>...</td>\n",
       "      <td>...</td>\n",
       "      <td>...</td>\n",
       "      <td>...</td>\n",
       "      <td>...</td>\n",
       "      <td>...</td>\n",
       "      <td>...</td>\n",
       "      <td>...</td>\n",
       "      <td>...</td>\n",
       "    </tr>\n",
       "    <tr>\n",
       "      <th>4812</th>\n",
       "      <td>4812</td>\n",
       "      <td>ZXYZ.A</td>\n",
       "      <td>Nasdaq Symbology Test Common Stock</td>\n",
       "      <td>Q</td>\n",
       "      <td>Y</td>\n",
       "      <td>N</td>\n",
       "      <td>100</td>\n",
       "      <td>NaN</td>\n",
       "      <td>N</td>\n",
       "    </tr>\n",
       "    <tr>\n",
       "      <th>4813</th>\n",
       "      <td>4813</td>\n",
       "      <td>ZXZZT</td>\n",
       "      <td>NASDAQ TEST STOCK</td>\n",
       "      <td>G</td>\n",
       "      <td>Y</td>\n",
       "      <td>N</td>\n",
       "      <td>100</td>\n",
       "      <td>NaN</td>\n",
       "      <td>N</td>\n",
       "    </tr>\n",
       "    <tr>\n",
       "      <th>4814</th>\n",
       "      <td>4814</td>\n",
       "      <td>ZYME</td>\n",
       "      <td>Zymeworks Inc. - Common Stock</td>\n",
       "      <td>Q</td>\n",
       "      <td>N</td>\n",
       "      <td>N</td>\n",
       "      <td>100</td>\n",
       "      <td>N</td>\n",
       "      <td>N</td>\n",
       "    </tr>\n",
       "    <tr>\n",
       "      <th>4815</th>\n",
       "      <td>4815</td>\n",
       "      <td>ZYXI</td>\n",
       "      <td>Zynex, Inc. - Common Stock</td>\n",
       "      <td>Q</td>\n",
       "      <td>N</td>\n",
       "      <td>N</td>\n",
       "      <td>100</td>\n",
       "      <td>N</td>\n",
       "      <td>N</td>\n",
       "    </tr>\n",
       "    <tr>\n",
       "      <th>4816</th>\n",
       "      <td>4816</td>\n",
       "      <td>ZZZ</td>\n",
       "      <td>Cyber Hornet S&amp;P 500 and Bitcoin 75/25 Strateg...</td>\n",
       "      <td>G</td>\n",
       "      <td>N</td>\n",
       "      <td>N</td>\n",
       "      <td>100</td>\n",
       "      <td>Y</td>\n",
       "      <td>N</td>\n",
       "    </tr>\n",
       "  </tbody>\n",
       "</table>\n",
       "<p>4817 rows × 9 columns</p>\n",
       "</div>"
      ],
      "text/plain": [
       "      Unnamed: 0  Symbol                                      Security Name   \n",
       "0              0    AACG  ATA Creativity Global - American Depositary Sh...  \\\n",
       "1              1    AACI          Armada Acquisition Corp. I - Common Stock   \n",
       "2              2   AACIU                  Armada Acquisition Corp. I - Unit   \n",
       "3              3   AACIW               Armada Acquisition Corp. I - Warrant   \n",
       "4              4    AADI               Aadi Bioscience, Inc. - Common Stock   \n",
       "...          ...     ...                                                ...   \n",
       "4812        4812  ZXYZ.A                 Nasdaq Symbology Test Common Stock   \n",
       "4813        4813   ZXZZT                                  NASDAQ TEST STOCK   \n",
       "4814        4814    ZYME                      Zymeworks Inc. - Common Stock   \n",
       "4815        4815    ZYXI                         Zynex, Inc. - Common Stock   \n",
       "4816        4816     ZZZ  Cyber Hornet S&P 500 and Bitcoin 75/25 Strateg...   \n",
       "\n",
       "     Market Category Test Issue Financial Status  Round Lot Size  ETF   \n",
       "0                  G          N                D             100    N  \\\n",
       "1                  G          N                N             100    N   \n",
       "2                  G          N                N             100    N   \n",
       "3                  G          N                N             100    N   \n",
       "4                  S          N                N             100    N   \n",
       "...              ...        ...              ...             ...  ...   \n",
       "4812               Q          Y                N             100  NaN   \n",
       "4813               G          Y                N             100  NaN   \n",
       "4814               Q          N                N             100    N   \n",
       "4815               Q          N                N             100    N   \n",
       "4816               G          N                N             100    Y   \n",
       "\n",
       "     NextShares  \n",
       "0             N  \n",
       "1             N  \n",
       "2             N  \n",
       "3             N  \n",
       "4             N  \n",
       "...         ...  \n",
       "4812          N  \n",
       "4813          N  \n",
       "4814          N  \n",
       "4815          N  \n",
       "4816          N  \n",
       "\n",
       "[4817 rows x 9 columns]"
      ]
     },
     "execution_count": 5,
     "metadata": {},
     "output_type": "execute_result"
    }
   ],
   "source": [
    "stock_list_df = pd.read_csv('data/nasdaq_stock_info/nasdaqtraded.txt', sep='|')\n",
    "stock_list_df\n"
   ]
  },
  {
   "cell_type": "code",
   "execution_count": 25,
   "metadata": {},
   "outputs": [],
   "source": [
    "feature_list = ['shortRatio','volume','beta','averageVolume','averageVolume10days','averageDailyVolume10Day',\n",
    " 'marketCap','totalDebt','ebitda','totalCash','totalCashPerShare','currentRatio','totalRevenue','revenuePerShare',\n",
    " 'returnOnAssets','freeCashflow','operatingCashflow','revenueGrowth','grossMargins','operatingMargins',\n",
    " 'enterpriseToRevenue','enterpriseToEbitda']\n"
   ]
  },
  {
   "cell_type": "code",
   "execution_count": 26,
   "metadata": {},
   "outputs": [
    {
     "data": {
      "application/vnd.jupyter.widget-view+json": {
       "model_id": "4aadeb4dd000437387fe13c0d3412230",
       "version_major": 2,
       "version_minor": 0
      },
      "text/plain": [
       "  0%|          | 0/4817 [00:00<?, ?it/s]"
      ]
     },
     "metadata": {},
     "output_type": "display_data"
    },
    {
     "name": "stdout",
     "output_type": "stream",
     "text": [
      "'float' object has no attribute 'upper'\n"
     ]
    },
    {
     "name": "stderr",
     "output_type": "stream",
     "text": [
      "404 Client Error: Not Found for url: https://query2.finance.yahoo.com/v10/finance/quoteSummary/ZAZZT?modules=financialData%2CquoteType%2CdefaultKeyStatistics%2CassetProfile%2CsummaryDetail&corsDomain=finance.yahoo.com&formatted=false&symbol=ZAZZT&crumb=Aohp9nq0Ofa\n",
      "404 Client Error: Not Found for url: https://query2.finance.yahoo.com/v10/finance/quoteSummary/ZBZZT?modules=financialData%2CquoteType%2CdefaultKeyStatistics%2CassetProfile%2CsummaryDetail&corsDomain=finance.yahoo.com&formatted=false&symbol=ZBZZT&crumb=Aohp9nq0Ofa\n",
      "404 Client Error: Not Found for url: https://query2.finance.yahoo.com/v10/finance/quoteSummary/ZCZZT?modules=financialData%2CquoteType%2CdefaultKeyStatistics%2CassetProfile%2CsummaryDetail&corsDomain=finance.yahoo.com&formatted=false&symbol=ZCZZT&crumb=Aohp9nq0Ofa\n",
      "404 Client Error: Not Found for url: https://query2.finance.yahoo.com/v10/finance/quoteSummary/ZXYZ.A?modules=financialData%2CquoteType%2CdefaultKeyStatistics%2CassetProfile%2CsummaryDetail&corsDomain=finance.yahoo.com&formatted=false&symbol=ZXYZ.A&crumb=Aohp9nq0Ofa\n"
     ]
    }
   ],
   "source": [
    "import yfinance as yf\n",
    "from tqdm.auto import tqdm\n",
    "\n",
    "def get_company_info(stock_code):\n",
    "    company = yf.Ticker(stock_code)\n",
    "    info = company.info\n",
    "    return info\n",
    "\n",
    "description_list = []\n",
    "for stock_code in tqdm(stock_list_df['Symbol'].unique()):\n",
    "    try:\n",
    "        info = get_company_info(stock_code)\n",
    "        features = {'code':stock_code}\n",
    "        for i in ['longBusinessSummary'] + feature_list:\n",
    "            if i in info:\n",
    "                features[i] = info[i]\n",
    "\n",
    "        description_list.append(features)\n",
    "        \n",
    "    except Exception as e:\n",
    "        print(e)\n",
    "        \n"
   ]
  },
  {
   "cell_type": "code",
   "execution_count": 28,
   "metadata": {},
   "outputs": [],
   "source": [
    "stock_description = pd.DataFrame(description_list)\n",
    "stock_description.to_csv('./data/nasdaq_stock_info/stock_info.csv', index=False)\n"
   ]
  },
  {
   "cell_type": "markdown",
   "metadata": {},
   "source": [
    "## Embedding the sentences"
   ]
  },
  {
   "cell_type": "code",
   "execution_count": 35,
   "metadata": {},
   "outputs": [],
   "source": [
    "stock_description = stock_description.dropna(subset=['longBusinessSummary'])"
   ]
  },
  {
   "cell_type": "code",
   "execution_count": 47,
   "metadata": {},
   "outputs": [],
   "source": [
    "## Embedding\n",
    "from sentence_transformers import SentenceTransformer\n",
    "logger = []\n",
    "\n",
    "sentences = stock_description['longBusinessSummary'].values\n",
    "model = SentenceTransformer('sentence-transformers/all-MiniLM-L6-v2')\n",
    "embeddings = model.encode(sentences)\n"
   ]
  },
  {
   "cell_type": "code",
   "execution_count": 60,
   "metadata": {},
   "outputs": [],
   "source": [
    "## add the embedded to dataframe\n",
    "new_stock_description = stock_description.copy()\n",
    "del new_stock_description['longBusinessSummary']\n",
    "\n",
    "new_stock_description = pd.concat([new_stock_description.reset_index(drop=True), pd.DataFrame(embeddings).reset_index(drop=True)], axis=1)\n",
    "\n",
    "new_stock_description = new_stock_description.set_index('code')\n"
   ]
  },
  {
   "cell_type": "code",
   "execution_count": 62,
   "metadata": {},
   "outputs": [],
   "source": [
    "## fillna\n",
    "for i in new_stock_description.columns:\n",
    "    new_stock_description[i] = new_stock_description[i].fillna(np.nanmean(new_stock_description[i].values))\n"
   ]
  },
  {
   "cell_type": "code",
   "execution_count": 69,
   "metadata": {},
   "outputs": [],
   "source": [
    "## Final standardization\n",
    "from sklearn.preprocessing import StandardScaler\n",
    "for i in new_stock_description.columns:\n",
    "    new_stock_description[i] = StandardScaler().fit_transform(new_stock_description[[i]].values)\n",
    "\n"
   ]
  },
  {
   "cell_type": "markdown",
   "metadata": {},
   "source": [
    "## Get distance matrix (dissimilarity)"
   ]
  },
  {
   "cell_type": "code",
   "execution_count": 80,
   "metadata": {},
   "outputs": [],
   "source": [
    "## PCA\n",
    "from sklearn.decomposition import PCA\n",
    "pca = PCA(n_components=300).fit(new_stock_description.values)\n",
    "new_features = pd.DataFrame(pca.transform(new_stock_description.values), index=new_stock_description.index)\n"
   ]
  },
  {
   "cell_type": "code",
   "execution_count": 84,
   "metadata": {},
   "outputs": [],
   "source": [
    "from scipy.spatial import distance_matrix\n",
    "dist_mat = distance_matrix(new_features, new_features)\n"
   ]
  },
  {
   "cell_type": "code",
   "execution_count": 87,
   "metadata": {},
   "outputs": [],
   "source": [
    "dist_mat = pd.DataFrame(dist_mat, index=new_features.index, columns=new_features.index)\n",
    "dist_mat.round(3).to_csv('./data/nasdaq_stock_info/distance_matrix.csv',index=True)\n"
   ]
  },
  {
   "cell_type": "code",
   "execution_count": null,
   "metadata": {},
   "outputs": [],
   "source": []
  },
  {
   "cell_type": "code",
   "execution_count": 124,
   "metadata": {},
   "outputs": [],
   "source": []
  },
  {
   "cell_type": "code",
   "execution_count": null,
   "metadata": {},
   "outputs": [],
   "source": []
  }
 ],
 "metadata": {
  "kernelspec": {
   "display_name": "base",
   "language": "python",
   "name": "python3"
  },
  "language_info": {
   "codemirror_mode": {
    "name": "ipython",
    "version": 3
   },
   "file_extension": ".py",
   "mimetype": "text/x-python",
   "name": "python",
   "nbconvert_exporter": "python",
   "pygments_lexer": "ipython3",
   "version": "3.11.8"
  }
 },
 "nbformat": 4,
 "nbformat_minor": 2
}
